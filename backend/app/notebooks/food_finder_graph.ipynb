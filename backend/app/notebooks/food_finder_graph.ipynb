{
 "cells": [
  {
   "cell_type": "code",
   "execution_count": 25,
   "metadata": {},
   "outputs": [],
   "source": [
    "%%capture\n",
    "!pip install langgraph langchain-openai langchain python-dotenv haversine"
   ]
  },
  {
   "cell_type": "code",
   "execution_count": null,
   "metadata": {},
   "outputs": [],
   "source": [
    "# Define the URL\n",
    "url = 'https://places.googleapis.com/v1/places:searchText'\n",
    "\n",
    "# Define the headers\n",
    "headers = {\n",
    "    'Content-Type': 'application/json',\n",
    "    'X-Goog-Api-Key': os.environ['GOOGLE_MAPS_API_KEY'],\n",
    "    'X-Goog-FieldMask': 'places.name,places.types,places.nationalPhoneNumber,places.formattedAddress,places.location,places.rating,places.googleMapsUri,places.websiteUri,places.regularOpeningHours,places.priceLevel,places.userRatingCount,places.displayName,places.primaryTypeDisplayName,places.reviews,places.dineIn,places.servesLunch,places.servesDinner,places.outdoorSeating,places.liveMusic,places.servesDessert,places.servesBeer,places.servesWine,places.servesBrunch,places.servesCocktails,places.servesCoffee,places.servesVegetarianFood,places.goodForChildren,places.menuForChildren,places.goodForGroups,places.parkingOptions'\n",
    "}\n",
    "\n",
    "# Define the data payload\n",
    "data = {\n",
    "    'textQuery': 'Spicy Vegetarian Food in Sydney, Australia'\n",
    "}\n",
    "\n",
    "# Make the POST request\n",
    "response = requests.post(url, headers=headers, json=data)"
   ]
  },
  {
   "cell_type": "code",
   "execution_count": 12,
   "metadata": {},
   "outputs": [],
   "source": [
    "# stream response to a text file\n",
    "with open('response.txt', 'wb') as f:\n",
    "    f.write(response.content)"
   ]
  },
  {
   "cell_type": "code",
   "execution_count": 8,
   "metadata": {},
   "outputs": [],
   "source": [
    "%load_ext autoreload\n",
    "%autoreload 2"
   ]
  },
  {
   "cell_type": "code",
   "execution_count": 7,
   "metadata": {},
   "outputs": [],
   "source": [
    "# convert response to json\n",
    "json_response = response.json()"
   ]
  },
  {
   "cell_type": "code",
   "execution_count": 8,
   "metadata": {},
   "outputs": [],
   "source": [
    "places = json_response['places']"
   ]
  },
  {
   "cell_type": "code",
   "execution_count": null,
   "metadata": {},
   "outputs": [],
   "source": [
    "places"
   ]
  },
  {
   "cell_type": "code",
   "execution_count": 10,
   "metadata": {},
   "outputs": [],
   "source": [
    "# instantiate a place from response content\n",
    "place = Place.model_validate(places[0])"
   ]
  },
  {
   "cell_type": "code",
   "execution_count": 17,
   "metadata": {},
   "outputs": [
    {
     "data": {
      "text/plain": [
       "[Place(name='places/ChIJwWB_qT2uEmsRbE92vXMyX4Q', types=['vegan_restaurant', 'vegetarian_restaurant', 'chinese_restaurant', 'restaurant', 'food', 'point_of_interest', 'establishment'], national_phone_number='(02) 9283 2828', formatted_address='367 Pitt St, Sydney NSW 2000, Australia', location=Coordinates(latitude=-33.875924999999995, longitude=151.20777099999998), rating=4.4, google_maps_uri='https://maps.google.com/?cid=9538398008475275116', website_uri='http://www.motherchusvegetarian.com.au/', regular_opening_hours=RegularOpeningHours(periods=[OpenClosePeriod(open=TimeInfo(day=1, hour=12, minute=0), close=TimeInfo(day=1, hour=15, minute=0)), OpenClosePeriod(open=TimeInfo(day=1, hour=17, minute=0), close=TimeInfo(day=1, hour=21, minute=0)), OpenClosePeriod(open=TimeInfo(day=2, hour=12, minute=0), close=TimeInfo(day=2, hour=15, minute=0)), OpenClosePeriod(open=TimeInfo(day=2, hour=17, minute=0), close=TimeInfo(day=2, hour=21, minute=0)), OpenClosePeriod(open=TimeInfo(day=3, hour=12, minute=0), close=TimeInfo(day=3, hour=15, minute=0)), OpenClosePeriod(open=TimeInfo(day=3, hour=17, minute=0), close=TimeInfo(day=3, hour=21, minute=0)), OpenClosePeriod(open=TimeInfo(day=4, hour=12, minute=0), close=TimeInfo(day=4, hour=15, minute=0)), OpenClosePeriod(open=TimeInfo(day=4, hour=17, minute=0), close=TimeInfo(day=4, hour=21, minute=0)), OpenClosePeriod(open=TimeInfo(day=5, hour=12, minute=0), close=TimeInfo(day=5, hour=15, minute=0)), OpenClosePeriod(open=TimeInfo(day=5, hour=17, minute=0), close=TimeInfo(day=5, hour=21, minute=0)), OpenClosePeriod(open=TimeInfo(day=6, hour=12, minute=0), close=TimeInfo(day=6, hour=15, minute=0)), OpenClosePeriod(open=TimeInfo(day=6, hour=17, minute=0), close=TimeInfo(day=6, hour=21, minute=0))]), price_level='PRICE_LEVEL_MODERATE', user_rating_count=939, display_name_text=\"Mother Chu's Vegetarian Kitchen\", primary_type_display_name_text='Vegan Restaurant', reviews=[Review(name='places/ChIJwWB_qT2uEmsRbE92vXMyX4Q/reviews/ChZDSUhNMG9nS0VJQ0FnSURibk9Ia0lBEAE', relative_publish_time_description='a month ago', rating=4, text=ReviewText(text=\"Went for dinner and ordered-\\nMi goreng 1J\\nCrispy bean curd 1D\\nSoft rice noodle 2J\\nSteam buns 9A\\nCurry puff 3A\\nPoached Chinese broccoli\\nPlain rice.\\n\\nWe enjoyed the Crispy Bean Curd 1D with Rice, Soft Rice Noodle 2J, and Curry Puff 3A the most. However, the Mi Goreng was like spaghetti, and the Steam Buns 9A were sweet, so did not prefer them. The Poached Chinese Broccoli was particularly disappointing, with an overly salty and strongly flavored sauce.\\n\\nAbsolutely, when we go there next time, we can confidently order our favorite dishes. The best thing about this restaurant is that all the menus are vegetarian, so there's no need to hesitate when choosing what to order.\\n\\nWe arrived at 5 PM when it was empty, but by 6 PM, all the tables were full, the place was crowded, and people were waiting outside.\", language_code='en'), publish_time='2024-08-03T00:02:45Z'), Review(name='places/ChIJwWB_qT2uEmsRbE92vXMyX4Q/reviews/ChdDSUhNMG9nS0VJQ0FnSURyaU9qUG53RRAB', relative_publish_time_description='2 months ago', rating=5, text=ReviewText(text='We’ve been coming to Mother Chu’s for years now and it’s always a great dining experience. Tonight we had the steamed dim sims for the entrée, followed by the golden mushroom and soy sheet roulades in black pepper sauce. Both were delicious – the food is cooked fresh. We love the friendly staff and the beautiful Chinese calligraphy on the walls. Highly recommended for vegans, vegetarians and omnivores alike!', language_code='en'), publish_time='2024-07-13T11:35:32Z'), Review(name='places/ChIJwWB_qT2uEmsRbE92vXMyX4Q/reviews/ChdDSUhNMG9nS0VJQ0FnSUM3dnNtYTVnRRAB', relative_publish_time_description='a month ago', rating=5, text=ReviewText(text='Mother Chu’s is one of Sydney’s original vegetarian restaurants - it’s over 30 years old and always a favourite!\\nThe dishes are all so wholesome and delicious - highly recommend the soya bean roll dishes. It’s very popular especially on a Saturday night.', language_code='en'), publish_time='2024-08-16T04:47:33Z'), Review(name='places/ChIJwWB_qT2uEmsRbE92vXMyX4Q/reviews/ChdDSUhNMG9nS0VJQ0FnSURqanZIRnl3RRAB', relative_publish_time_description='4 months ago', rating=5, text=ReviewText(text='A great range of food choices and of the items we tried were delicious. Highly recommended for any vegetarian, vegan or flexitarian. Will be back again when in Sydney.', language_code='en'), publish_time='2024-05-03T06:12:05Z'), Review(name='places/ChIJwWB_qT2uEmsRbE92vXMyX4Q/reviews/ChdDSUhNMG9nS0VJQ0FnSUNId2NxcGtRRRAB', relative_publish_time_description='a week ago', rating=5, text=ReviewText(text='Amazing food and friendly service. Love the exclusive veg menu. We ate here two days in a row. Everything was fresh, flavorful and tasty. One dish I would recommend is the braised Taiwanese eggplant with basil and coriander. It was outstanding.', language_code='en'), publish_time='2024-09-09T12:52:47Z')], dine_in=True, serves_lunch=True, serves_dinner=True, outdoor_seating=True, live_music=False, serves_dessert=True, serves_beer=True, serves_wine=False, serves_brunch=False, serves_cocktails=False, serves_coffee=False, serves_vegetarian_food=True, good_for_children=True, menu_for_children=False, good_for_groups=True, parking_options=ParkingOptions(free_parking_lot=False, paid_parking_lot=False, free_street_parking=False, paid_street_parking=False, valet_parking=False, free_garage_parking=False, paid_garage_parking=False)),\n",
       " Place(name='places/ChIJE18nTWiuEmsRUz-zCmu8p8U', types=['indian_restaurant', 'restaurant', 'food', 'point_of_interest', 'establishment'], national_phone_number='(02) 9251 9990', formatted_address='The Quay Building, 2 Phillip St, Sydney NSW 2000, Australia', location=Coordinates(latitude=-33.8617206, longitude=151.2123699), rating=4.3, google_maps_uri='https://maps.google.com/?cid=14242559514509524819', website_uri='https://thespiceroom.com.au/', regular_opening_hours=RegularOpeningHours(periods=[OpenClosePeriod(open=TimeInfo(day=0, hour=12, minute=0), close=TimeInfo(day=0, hour=15, minute=0)), OpenClosePeriod(open=TimeInfo(day=0, hour=17, minute=0), close=TimeInfo(day=0, hour=22, minute=0)), OpenClosePeriod(open=TimeInfo(day=1, hour=17, minute=0), close=TimeInfo(day=1, hour=22, minute=0)), OpenClosePeriod(open=TimeInfo(day=2, hour=12, minute=0), close=TimeInfo(day=2, hour=15, minute=0)), OpenClosePeriod(open=TimeInfo(day=2, hour=17, minute=0), close=TimeInfo(day=2, hour=22, minute=0)), OpenClosePeriod(open=TimeInfo(day=3, hour=12, minute=0), close=TimeInfo(day=3, hour=15, minute=0)), OpenClosePeriod(open=TimeInfo(day=3, hour=17, minute=0), close=TimeInfo(day=3, hour=22, minute=0)), OpenClosePeriod(open=TimeInfo(day=4, hour=12, minute=0), close=TimeInfo(day=4, hour=15, minute=0)), OpenClosePeriod(open=TimeInfo(day=4, hour=17, minute=0), close=TimeInfo(day=4, hour=22, minute=0)), OpenClosePeriod(open=TimeInfo(day=5, hour=12, minute=0), close=TimeInfo(day=5, hour=15, minute=0)), OpenClosePeriod(open=TimeInfo(day=5, hour=17, minute=0), close=TimeInfo(day=5, hour=22, minute=0)), OpenClosePeriod(open=TimeInfo(day=6, hour=12, minute=0), close=TimeInfo(day=6, hour=15, minute=0)), OpenClosePeriod(open=TimeInfo(day=6, hour=17, minute=0), close=TimeInfo(day=6, hour=22, minute=0))]), price_level='PRICE_LEVEL_MODERATE', user_rating_count=1966, display_name_text='The Spice Room', primary_type_display_name_text='Indian Restaurant', reviews=[Review(name='places/ChIJE18nTWiuEmsRUz-zCmu8p8U/reviews/ChZDSUhNMG9nS0VJQ0FnSURidWRmYlZBEAE', relative_publish_time_description='a month ago', rating=5, text=ReviewText(text='Eventhough I didn’t have any table reservation,  they managed to slot me in since I got in early. They said they can give me an hour but I went over an hour and they had no problem with it even though they started getting busier. Excellent service!\\n\\nFood is legit (I’m a sucker for Indian food) and yes, if the fragrant, mildly spicy Indian I am looking for. I wish i could have order other stuff but I was dining alone.', language_code='en'), publish_time='2024-08-07T08:11:55Z'), Review(name='places/ChIJE18nTWiuEmsRUz-zCmu8p8U/reviews/ChdDSUhNMG9nS0VJQ0FnSUNIdGJmNjl3RRAB', relative_publish_time_description='a week ago', rating=5, text=ReviewText(text='Best Indian food I had in Sydney. Had free flow of sparkling water also. Very rich quality food and the ambience is really great. Loved the roti and curry a lot.', language_code='en'), publish_time='2024-09-07T10:01:50Z'), Review(name='places/ChIJE18nTWiuEmsRUz-zCmu8p8U/reviews/ChZDSUhNMG9nS0VJQ0FnSURIaEwyWGVBEAE', relative_publish_time_description='a week ago', rating=5, text=ReviewText(text='This is a very authentic Indian restaurant. They have spent a lot of time on the detail in setting it up. Well maintained. Food was equally good. We had some very good roti, chicken tikka masala and tea. All these blended well. We visited this place after our visit to the Opera house. This is easy to visit by train.', language_code='en'), publish_time='2024-09-12T13:52:58Z'), Review(name='places/ChIJE18nTWiuEmsRUz-zCmu8p8U/reviews/ChZDSUhNMG9nS0VJQ0FnSURqdGYtNFNREAE', relative_publish_time_description='4 months ago', rating=5, text=ReviewText(text='This place was highly recommended to me by my friends. By far the best Indian restaurant near Circular Quay. We celebrated my mom’s birthday dinner and every dish was smack on. They were all very flavorful yet not too spicy, which we generally prefer. This place has very good options for vegetarians as well as meat eaters. Mum’s a fan of their goat biryani. My dad and I loved the Baingan Bharta. We ended up bringing family friends to this place for lunch in the same week and they were just as impressed. Highly recommend, 10/10 for everything here.', language_code='en'), publish_time='2024-05-05T23:10:03Z'), Review(name='places/ChIJE18nTWiuEmsRUz-zCmu8p8U/reviews/ChdDSUhNMG9nS0VJQ0FnSUNiN19UbjB3RRAB', relative_publish_time_description='a month ago', rating=5, text=ReviewText(text=\"Absolute gem of a little restaurant. This is some the best Indian food I've had in Sydney. Would quite willingly eat here again if they have a spare table.\", language_code='en'), publish_time='2024-07-31T09:58:21Z')], dine_in=True, serves_lunch=True, serves_dinner=True, outdoor_seating=False, live_music=False, serves_dessert=True, serves_beer=True, serves_wine=True, serves_brunch=False, serves_cocktails=True, serves_coffee=True, serves_vegetarian_food=True, good_for_children=False, menu_for_children=True, good_for_groups=True, parking_options=ParkingOptions(free_parking_lot=False, paid_parking_lot=True, free_street_parking=False, paid_street_parking=False, valet_parking=False, free_garage_parking=False, paid_garage_parking=False))]"
      ]
     },
     "execution_count": 17,
     "metadata": {},
     "output_type": "execute_result"
    }
   ],
   "source": [
    "places_objects"
   ]
  },
  {
   "cell_type": "code",
   "execution_count": 22,
   "metadata": {},
   "outputs": [],
   "source": [
    "places_objects = []\n",
    "for p in places:\n",
    "    places_objects.append(Place.model_validate(p))"
   ]
  },
  {
   "cell_type": "code",
   "execution_count": 4,
   "metadata": {},
   "outputs": [],
   "source": [
    "TEST_COORDS = (30.320156, -97.720618)\n",
    "TEST_LAT = TEST_COORDS[0]\n",
    "TEST_LONG = TEST_COORDS[1]"
   ]
  },
  {
   "cell_type": "code",
   "execution_count": 11,
   "metadata": {},
   "outputs": [],
   "source": [
    "# Define the URL\n",
    "url = 'https://places.googleapis.com/v1/places:searchText'\n",
    "\n",
    "# Define the headers\n",
    "headers = {\n",
    "    'Content-Type': 'application/json',\n",
    "    'X-Goog-Api-Key': os.environ['GOOGLE_MAPS_API_KEY'],\n",
    "    'X-Goog-FieldMask': 'places.name,places.types,places.nationalPhoneNumber,places.formattedAddress,places.location,places.rating,places.googleMapsUri,places.websiteUri,places.regularOpeningHours,places.priceLevel,places.userRatingCount,places.displayName,places.primaryTypeDisplayName,places.reviews,places.dineIn,places.servesLunch,places.servesDinner,places.outdoorSeating,places.liveMusic,places.servesDessert,places.servesBeer,places.servesWine,places.servesBrunch,places.servesCocktails,places.servesCoffee,places.servesVegetarianFood,places.goodForChildren,places.menuForChildren,places.goodForGroups,places.parkingOptions'\n",
    "}\n",
    "\n",
    "# Define the data payload\n",
    "data = {\n",
    "    'textQuery': 'Asian cuisine near me',\n",
    "    'locationBias': {\n",
    "        'circle': {\n",
    "            'center': {\n",
    "                'latitude': TEST_LAT,\n",
    "                'longitude': TEST_LONG\n",
    "            },\n",
    "            'radius': 8046.72\n",
    "        }\n",
    "    }\n",
    "}\n",
    "\n",
    "# Make the POST request\n",
    "response = requests.post(url, headers=headers, json=data)"
   ]
  },
  {
   "cell_type": "markdown",
   "metadata": {},
   "source": [
    "## Making our food finder graph\n",
    "\n",
    "### Version 1:\n",
    "\n",
    "user → map query formulator agent → team supervisor w/ tool call → final output on UI completed"
   ]
  },
  {
   "cell_type": "code",
   "execution_count": 42,
   "metadata": {},
   "outputs": [],
   "source": [
    "import os\n",
    "import requests\n",
    "from typing import Annotated, Sequence, Tuple, List, Dict, Any\n",
    "from datetime import datetime, timedelta, time\n",
    "import operator\n",
    "import math\n",
    "from pydantic import BaseModel, Field\n",
    "from colorama import Fore, Style\n",
    "\n",
    "from langchain_core.messages import HumanMessage, SystemMessage, ToolMessage, AIMessage\n",
    "from langchain_openai import ChatOpenAI\n",
    "from langchain.agents import AgentExecutor, create_openai_tools_agent\n",
    "from langchain_core.language_models.chat_models import BaseChatModel\n",
    "from langchain_core.prompts import ChatPromptTemplate, MessagesPlaceholder\n",
    "from langchain.tools import tool\n",
    "from langgraph.prebuilt import InjectedState, ToolNode\n",
    "\n",
    "from langgraph.graph import END, StateGraph\n",
    "\n",
    "from app.schemas import Place, UserPreferences"
   ]
  },
  {
   "cell_type": "code",
   "execution_count": 82,
   "metadata": {},
   "outputs": [],
   "source": [
    "# Custom class for AIMessage, which also includes the graph node which produced it\n",
    "class CustomAIMessage(AIMessage):\n",
    "    def __init__(self, content: str, originating_node: str, **kwargs):\n",
    "        super().__init__(content=content, **kwargs)\n",
    "        self.originating_node = originating_node"
   ]
  },
  {
   "cell_type": "code",
   "execution_count": 83,
   "metadata": {},
   "outputs": [
    {
     "name": "stdout",
     "output_type": "stream",
     "text": [
      "The autoreload extension is already loaded. To reload it, use:\n",
      "  %reload_ext autoreload\n"
     ]
    }
   ],
   "source": [
    "# reload\n",
    "%load_ext autoreload\n",
    "%autoreload 2"
   ]
  },
  {
   "cell_type": "code",
   "execution_count": 84,
   "metadata": {},
   "outputs": [],
   "source": [
    "from dotenv import load_dotenv\n",
    "load_dotenv('../../.env.dev')\n",
    "GOOGLE_FIELD_MASK = \"places.name,places.types,places.nationalPhoneNumber,places.formattedAddress,places.location,places.rating,places.googleMapsUri,places.websiteUri,places.regularOpeningHours,places.priceLevel,places.userRatingCount,places.displayName,places.primaryTypeDisplayName,places.reviews,places.dineIn,places.servesLunch,places.servesDinner,places.outdoorSeating,places.liveMusic,places.servesDessert,places.servesBeer,places.servesWine,places.servesBrunch,places.servesCocktails,places.servesCoffee,places.servesVegetarianFood,places.goodForChildren,places.menuForChildren,places.goodForGroups,places.parkingOptions\""
   ]
  },
  {
   "cell_type": "markdown",
   "metadata": {},
   "source": [
    "### Define our prompts"
   ]
  },
  {
   "cell_type": "code",
   "execution_count": 85,
   "metadata": {},
   "outputs": [],
   "source": [
    "from app.graph.prompts import MAPS_QUERY_FORMULATOR_SYSTEM_PROMPT, TEAM_SUPERVISOR_SYSTEM_PROMPT"
   ]
  },
  {
   "cell_type": "markdown",
   "metadata": {},
   "source": [
    "### Define our state and LLM"
   ]
  },
  {
   "cell_type": "code",
   "execution_count": 86,
   "metadata": {},
   "outputs": [],
   "source": [
    "from app.schemas import AgentState"
   ]
  },
  {
   "cell_type": "code",
   "execution_count": 87,
   "metadata": {},
   "outputs": [],
   "source": [
    "llm = ChatOpenAI(model=\"gpt-4o\")"
   ]
  },
  {
   "cell_type": "markdown",
   "metadata": {},
   "source": [
    "### Create maps query formulator agent\n",
    "\n",
    "This agent takes all the info we have no the user's request and formulates a query for the Google Maps API."
   ]
  },
  {
   "cell_type": "code",
   "execution_count": 88,
   "metadata": {},
   "outputs": [],
   "source": [
    "def maps_query_formulator_node(state: AgentState):\n",
    "    # add the system prompt before\n",
    "    messages = [SystemMessage(content=MAPS_QUERY_FORMULATOR_SYSTEM_PROMPT)] + state[\"messages\"]\n",
    "    response = llm.invoke(messages)\n",
    "\n",
    "    new_message = CustomAIMessage(content=response.content, originating_node=\"maps_query_formulator_node\")\n",
    "    return {\"messages\": [new_message]}"
   ]
  },
  {
   "cell_type": "markdown",
   "metadata": {},
   "source": [
    "### Create state updater agent\n",
    "\n",
    "This agent will take the information from the user query (initial one for now) and update the state with the user's preferences."
   ]
  },
  {
   "cell_type": "markdown",
   "metadata": {},
   "source": [
    "Here is an example of getting structured output from a LLM"
   ]
  },
  {
   "cell_type": "code",
   "execution_count": 89,
   "metadata": {},
   "outputs": [],
   "source": [
    "class DateTimeExtract(BaseModel):\n",
    "    dt: datetime\n",
    "\n",
    "model = ChatOpenAI(model=\"gpt-4o\", temperature=0)\n",
    "\n",
    "DATETIME_EXTRACTOR_SYSTEM_PROMPT = \"\"\"\n",
    "{curr_day_time_msg}. Give back a datetime object, in the `dt` key of the JSON, from the following user query:\n",
    "{user_query}\n",
    "\"\"\"\n",
    "\n",
    "def get_formatted_datetime():\n",
    "    now = datetime.now()\n",
    "    return now.strftime(\"It is currently %B %d, %Y. The time is %I:%M %p\")\n",
    "\n",
    "def extract_datetime(message: str) -> DateTimeExtract:\n",
    "    structured_llm = model.with_structured_output(DateTimeExtract, method=\"json_mode\")\n",
    "    message = DATETIME_EXTRACTOR_SYSTEM_PROMPT.format(curr_day_time_msg=get_formatted_datetime(), user_query=message)\n",
    "    return structured_llm.invoke(message)"
   ]
  },
  {
   "cell_type": "code",
   "execution_count": 139,
   "metadata": {},
   "outputs": [],
   "source": [
    "def datetime_extractor_node(state: AgentState):\n",
    "    # Grab the first human message's content\n",
    "    user_query = next((msg.content for msg in state[\"messages\"] if isinstance(msg, HumanMessage)), None)\n",
    "    structured_model = llm.with_structured_output(DateTimeExtract)\n",
    "    message = DATETIME_EXTRACTOR_SYSTEM_PROMPT.format(curr_day_time_msg=get_formatted_datetime(), user_query=user_query)\n",
    "\n",
    "    response = structured_model.invoke(message)\n",
    "\n",
    "    # Now, return the updated desired time to eat\n",
    "    new_user_pref = state['user_preferences']\n",
    "    orig_stay_duration = new_user_pref.desired_time_and_stay_duration[1]\n",
    "    new_user_pref.desired_time_and_stay_duration = (response.dt, orig_stay_duration)\n",
    "    return {\"user_preferences\": new_user_pref, \"datetime_extracted\": True}"
   ]
  },
  {
   "cell_type": "code",
   "execution_count": 91,
   "metadata": {},
   "outputs": [],
   "source": [
    "query_tests = [\n",
    "    \"Im looking for a place to have dinner around 7 PM, preferably somewhere within 10 miles of downtown. I’d love a spot with a cozy atmosphere and a good selection of vegetarian dishes, but I’m open to other options if they have unique or standout menu items. Bonus points if they have outdoor seating and a view!\",\n",
    "    \"I’m looking for a place to eat that serves Italian food. I’d prefer it to be within 5 miles of my current location, and I’d like it to be open for dinner. I’d prefer it to be a place that has a good atmosphere and serves good food. I’d also like it to have a good selection of vegetarian dishes, but I’m open to other options if they have unique or standout menu items. Bonus points if they have outdoor seating and a view!\",\n",
    "    \"Tomorrow, I want to get some asian food by my house, during dinner.\",\n",
    "    \"This Friday, im going out to eat at lunch time. What is good?\",\n",
    "    \"I want to get some italian food during Halloween this year.\"\n",
    "]"
   ]
  },
  {
   "cell_type": "code",
   "execution_count": 92,
   "metadata": {},
   "outputs": [
    {
     "name": "stdout",
     "output_type": "stream",
     "text": [
      "2024-09-25 19:00:00\n",
      "2024-09-25 15:28:00\n",
      "2024-09-26 19:00:00\n",
      "2024-09-27 12:00:00\n",
      "2024-10-31 00:00:00\n"
     ]
    }
   ],
   "source": [
    "for q in query_tests:\n",
    "    print(extract_datetime(q).dt)"
   ]
  },
  {
   "cell_type": "code",
   "execution_count": 93,
   "metadata": {},
   "outputs": [],
   "source": [
    "from app.schemas import PreferenceWeight"
   ]
  },
  {
   "cell_type": "code",
   "execution_count": 127,
   "metadata": {},
   "outputs": [],
   "source": [
    "class StateUpdaterOutputFormat(BaseModel):\n",
    "    when_to_eat_specified: bool = Field(default=False)\n",
    "    length_of_stay: int = Field(default=60)\n",
    "    preferred_price_level: str = Field(default=\"PRICE_LEVEL_UNSPECIFIED\")\n",
    "    desired_star_rating: int = Field(default=0)\n",
    "    preferred_direction: str = Field(default=\"any\")\n",
    "    desired_max_distance_meters: float = Field(default=16093.0)\n",
    "\n",
    "    desired_cuisines: PreferenceWeight = Field(default=PreferenceWeight(value=[\"any\"], weight=0.8))\n",
    "    party_size: PreferenceWeight = Field(default=PreferenceWeight(value=1, weight=1.0))\n",
    "    desired_minimum_num_ratings: PreferenceWeight = Field(default=PreferenceWeight(value=0, weight=0.3))\n",
    "    dietary_requests: PreferenceWeight = Field(default=PreferenceWeight(value=[], weight=1.0))\n",
    "    wants_family_friendly: PreferenceWeight = Field(default=PreferenceWeight(value=False, weight=0.6))\n",
    "    wants_childrens_menu: PreferenceWeight = Field(default=PreferenceWeight(value=False, weight=0.5))\n",
    "    wants_free_parking: PreferenceWeight = Field(default=PreferenceWeight(value=True, weight=0.8))\n",
    "    wants_outdoor_seating: PreferenceWeight = Field(default=PreferenceWeight(value=False, weight=0.5))\n",
    "    wants_live_music: PreferenceWeight = Field(default=PreferenceWeight(value=False, weight=0.3))\n",
    "    wants_dessert: PreferenceWeight = Field(default=PreferenceWeight(value=False, weight=0.3))\n",
    "    wants_beer: PreferenceWeight = Field(default=PreferenceWeight(value=False, weight=0.3))\n",
    "    wants_wine: PreferenceWeight = Field(default=PreferenceWeight(value=False, weight=0.3))\n",
    "    wants_brunch: PreferenceWeight = Field(default=PreferenceWeight(value=False, weight=0.7))\n",
    "    wants_cocktails: PreferenceWeight = Field(default=PreferenceWeight(value=False, weight=0.3))\n",
    "    wants_coffee: PreferenceWeight = Field(default=PreferenceWeight(value=False, weight=0.6))\n"
   ]
  },
  {
   "cell_type": "code",
   "execution_count": 128,
   "metadata": {},
   "outputs": [],
   "source": [
    "STATE_UPDATER_SYSTEM_PROMPT = \"\"\"\n",
    "You are an AI assistant tasked with extracting user preferences for dining from their message, responding back in JSON.\n",
    "\n",
    "Each preference (key in the JSON) has an associated value and weight. The value is what you will extract from the message (if \n",
    "the user provided it), and the weight (a value from 0.0 to 1.0) of an extracted value can be determined by gauging how \n",
    "important this preference is to the user. You can use the following heuristic to determine weight values, based on what you see\n",
    "in the user's message:\n",
    "- Need -> 1.0\n",
    "- Strongly want -> 0.8\n",
    "- Want -> 0.5\n",
    "- Nice to have -> 0.3\n",
    "\n",
    "Here are the keys of the JSON, or user preferences to look for, and how youll need to format the information to extract the value for each. \n",
    "Fill out each one, if you see it in the message, otherwise, you can use the default values.\n",
    "- `when_to_eat_specified`: Format this as a boolean, representing whether the user has specified when they would like to eat.\n",
    "    - example value: true\n",
    "- `length_of_stay`: Format this as an integer, representing the number of minutes the user would like to stay at the place.\n",
    "    - example value: 30\n",
    "- `preferred_price_level`: Format this as a string. The user will likely give you a price or price range (assume USD). If they dont give you this but indicate a preference for cost another way, do your best to give the more appropriate price level. Here are the mappings of price ranges (per person) to the corresponding values to give back:\n",
    "    - <= $10 -> \"PRICE_LEVEL_INEXPENSIVE\"\n",
    "    - $10 - $30 -> \"PRICE_LEVEL_MODERATE\"\n",
    "    - $30 - $60 -> \"PRICE_LEVEL_EXPENSIVE\"\n",
    "    - >$60 -> \"PRICE_LEVEL_VERY_EXPENSIVE\"\n",
    "- `desired_star_rating`: Format this as a float, representing any preference the user may have for the average rating of a place (at minimum). Ranges from 0.0 to 5.0.\n",
    "    - example value: 4.6\n",
    "- `preferred_direction`: Format this as a string, representing the user's preferred direction on a compass for where the place is located. Only fill this in if the direction is in relation to where they are.\n",
    "    - example value: \"NE\"\n",
    "- `desired_max_distance_meters`: Format this as a float, representing any preference the user may have for the maximum distance they would like to travel to eat. This is measured in meters, but it is likely they will give you number for miles, hence, convert first. If the user specifies a desired travel time instead, dont fill out this value.\n",
    "    - example value: 16093.0\n",
    "- `desired_cuisines`: Format this into a list of strings, based on the user's preferred kind(s) of food to eat.\n",
    "    - example value: [\"American\"]\n",
    "- `party_size`: Format this as an integer representing how many people are in the user's party. If not explicitly specified, assume 1.\n",
    "    - example value: 2\n",
    "- `desired_minimum_num_ratings`: Format this as a float, representing any preference the user may have for the number of ratings they desire from a place (at minimum). Ranges from 0.0 to 5.0.\n",
    "    - example value: 4.6\n",
    "- `dietary_requests`: Format this into a list of strings, based on the user's dietary requests. Make this be [\"\"] if no requests are given.\n",
    "    - example value: [\"Vegetarian\", \"Gluten-free\"]\n",
    "- `wants_family_friendly`: Format this as a boolean, representing the user's preference for a family-friendly environment.\n",
    "    - example value: true\n",
    "- `wants_childrens_menu`: Format this as a boolean, representing the user's preference for a children's menu.\n",
    "    - example value: true\n",
    "- `wants_free_parking`: Format this as a boolean, representing the user's preference for free parking. If not specified, assume true.\n",
    "    - example value: true\n",
    "- `wants_outdoor_seating`: Format this as a boolean, representing the user's preference for outdoor seating.\n",
    "    - example value: true\n",
    "- `wants_live_music`: Format this as a boolean, representing the user's preference for live music.\n",
    "    - example value: true\n",
    "- `wants_dessert`: Format this as a boolean, representing the user's preference for dessert.\n",
    "    - example value: true\n",
    "- `wants_beer`: Format this as a boolean, representing the user's preference for beer.\n",
    "    - example value: true\n",
    "- `wants_wine`: Format this as a boolean, representing the user's preference for wine.\n",
    "    - example value: true\n",
    "- `wants_brunch`: Format this as a boolean, representing the user's preference for brunch.\n",
    "    - example value: true\n",
    "- `wants_cocktails`: Format this as a boolean, representing the user's preference for cocktails.\n",
    "    - example value: true\n",
    "- `wants_coffee`: Format this as a boolean, representing the user's preference for coffee.\n",
    "    - example value: true\n",
    "\n",
    "An example output, thus, would be:\n",
    "{\n",
    "    ...\n",
    "    \"desired_minimum_num_ratings\": {\n",
    "        \"value\": 100,\n",
    "        \"weight\": 0.3\n",
    "    },\n",
    "    ...\n",
    "    \"wants_childrens_menu\": {\n",
    "        \"value\": true,\n",
    "        \"weight\": 0.7\n",
    "    },\n",
    "    ...\n",
    "}\n",
    "\"\"\""
   ]
  },
  {
   "cell_type": "code",
   "execution_count": 115,
   "metadata": {},
   "outputs": [],
   "source": [
    "model = ChatOpenAI(model=\"gpt-4o\", temperature=0)\n",
    "\n",
    "def extract_preferences(message: str) -> Dict[str, Any]:\n",
    "    structured_model = model.with_structured_output(StateUpdaterOutputFormat)\n",
    "    \n",
    "    response = structured_model.invoke([\n",
    "        SystemMessage(content=STATE_UPDATER_SYSTEM_PROMPT),\n",
    "        HumanMessage(content=message)\n",
    "    ])\n",
    "    \n",
    "    return response.dict()\n"
   ]
  },
  {
   "cell_type": "code",
   "execution_count": 164,
   "metadata": {},
   "outputs": [],
   "source": [
    "def state_updater_node(state: AgentState):\n",
    "    # Grab the first human message's content\n",
    "    user_query_with_preferences = next((msg.content for msg in state[\"messages\"] if isinstance(msg, HumanMessage)), None)\n",
    "    structured_model = llm.with_structured_output(StateUpdaterOutputFormat)\n",
    "\n",
    "    response = structured_model.invoke([\n",
    "        SystemMessage(content=STATE_UPDATER_SYSTEM_PROMPT),\n",
    "        HumanMessage(content=user_query_with_preferences)\n",
    "    ])\n",
    "    new_preferences = response.dict()\n",
    "\n",
    "    # After we get response preferences, we update the state\n",
    "    # Note: We dont need to append an additional message from this agent to the state\n",
    "    # Just need to update the other aspects of the state\n",
    "    state_to_return = {}\n",
    "    \n",
    "    pref_restrictions = {k: new_preferences[k] for k in list(new_preferences.keys())[:6]}\n",
    "    for k, v in pref_restrictions.items():\n",
    "        if k == \"length_of_stay\":\n",
    "            new_user_pref = state[\"user_preferences\"]\n",
    "            orig_user_pref_time_of_stay = state[\"user_preferences\"].desired_time_and_stay_duration[0]\n",
    "            new_user_pref.desired_time_and_stay_duration = (orig_user_pref_time_of_stay, v)\n",
    "            state_to_return[\"user_preferences\"] = new_user_pref\n",
    "        else:\n",
    "            state_to_return[k] = v\n",
    "\n",
    "    pref_rest = {k: new_preferences[k] for k in list(new_preferences.keys())[6:]}\n",
    "    user_preferences = UserPreferences.model_validate(pref_rest)\n",
    "    state_to_return[\"user_preferences\"] = user_preferences\n",
    "\n",
    "    # Handling any other state variables not included in the StateUpdaterOutputFormat schema\n",
    "    state_to_return[\"when_to_eat_specified\"] = state[\"when_to_eat_specified\"]\n",
    "\n",
    "    return state_to_return"
   ]
  },
  {
   "cell_type": "code",
   "execution_count": 122,
   "metadata": {},
   "outputs": [],
   "source": [
    "d = extract_preferences(\"Im looking for a place to have dinner around 7 PM, preferably somewhere within 10 miles of downtown. I'd love a spot with a cozy atmosphere and a good selection of vegetarian dishes, but I'm open to other options if they have unique or standout menu items. Bonus points if they have outdoor seating and a view!\")"
   ]
  },
  {
   "cell_type": "code",
   "execution_count": 100,
   "metadata": {},
   "outputs": [],
   "source": [
    "d = extract_preferences(query_tests[0])"
   ]
  },
  {
   "cell_type": "code",
   "execution_count": 101,
   "metadata": {},
   "outputs": [
    {
     "name": "stdout",
     "output_type": "stream",
     "text": [
      "Im looking for a place to have dinner around 7 PM, preferably somewhere within 10 miles of downtown. I’d love a spot with a cozy atmosphere and a good selection of vegetarian dishes, but I’m open to other options if they have unique or standout menu items. Bonus points if they have outdoor seating and a view!\n"
     ]
    }
   ],
   "source": [
    "print(query_tests[0])"
   ]
  },
  {
   "cell_type": "markdown",
   "metadata": {},
   "source": [
    "### Create team supervisor agent"
   ]
  },
  {
   "cell_type": "markdown",
   "metadata": {},
   "source": [
    "#### Create tool nodes for supervisor, which have access to state"
   ]
  },
  {
   "cell_type": "code",
   "execution_count": 102,
   "metadata": {},
   "outputs": [],
   "source": [
    "from app.graph.tools.places_search import google_maps_text_search_and_filter"
   ]
  },
  {
   "cell_type": "code",
   "execution_count": 103,
   "metadata": {},
   "outputs": [],
   "source": [
    "tool_node = ToolNode([google_maps_text_search_and_filter])"
   ]
  },
  {
   "cell_type": "code",
   "execution_count": 104,
   "metadata": {},
   "outputs": [],
   "source": [
    "team_supervisor = llm.bind_tools([google_maps_text_search_and_filter])"
   ]
  },
  {
   "cell_type": "code",
   "execution_count": 105,
   "metadata": {},
   "outputs": [],
   "source": [
    "def format_response_str_from_places(valid_places: List[Tuple[str, Place]]):\n",
    "    NUM_RECS_TO_SHOW = min(5, len(valid_places))\n",
    "    response_str = \"\"\n",
    "    curr_rec = 1\n",
    "    for place in valid_places[:NUM_RECS_TO_SHOW]:\n",
    "        #logging.debug(f\"DEBUG: place is of type {type(place)}, and its {place}\")\n",
    "        response_str += f\"{curr_rec}. {place.display_name_text} - {place.primary_type_display_name_text}. Located at {place.formatted_address}. Phone number is {place.national_phone_number}. Rating is {place.rating} with {place.user_rating_count} ratings.\\n\"\n",
    "        curr_rec += 1\n",
    "    return response_str"
   ]
  },
  {
   "cell_type": "code",
   "execution_count": 106,
   "metadata": {},
   "outputs": [],
   "source": [
    "TEAM_SUPERVISOR_SYSTEM_PROMPT = \"\"\"\n",
    "You are one of the core assistants amongst a team of other assistants tasked with finding the user an optimal place to go out to eat. You have several duties, encompassing searching Google Maps for places that fit the user's request and preferences, passing the resulting data along to subordinate agents under you, communicating back your findings with the user, and continuing to get more information on the places and help the user until one of the places you recommend him/her suits their interests.\n",
    "\n",
    "You have access to a tool which can perform a text search, using Google's Places API. To use this tool, you must pass in the api_query you receive from another agent, which is {api_query}. This tool will do everything you need to get back a prioritized list of places according to the user's preferences, which you will use to communicate back to the user.\n",
    "The places that fit the user's preferences will be stored, where you can access particular location later, based on place name.\n",
    "\n",
    "Make the tone of your responses towards the user friendly and helpful. Suggest that you are happy to help them get more information on particular places or show additional places that you've found from the tool call.\n",
    "\n",
    "In your response, if you just used the text search tool, mention how many valid places were found, and then make sure you always end your response with these words and nothing more after it (you can say things before this): 'Here are the places I found for you:'.\n",
    "\"\"\""
   ]
  },
  {
   "cell_type": "code",
   "execution_count": 107,
   "metadata": {},
   "outputs": [],
   "source": [
    "def team_supervisor_node(state: AgentState):\n",
    "    # Grab the (latest) api query\n",
    "    api_query = \"\"\n",
    "    for message in reversed(state[\"messages\"]):\n",
    "        if isinstance(message, CustomAIMessage) and message.originating_node == \"maps_query_formulator_node\":\n",
    "            api_query = message.content\n",
    "            break\n",
    "    \n",
    "    messages = [SystemMessage(content=TEAM_SUPERVISOR_SYSTEM_PROMPT.format(api_query=api_query))] + state[\"messages\"]\n",
    "    #print(\"DEBUG: here is messages:\", messages)\n",
    "    response = team_supervisor.invoke(messages)\n",
    "    #print(\"DEBUG: here is response:\", response)\n",
    "    # If we just called the tool to get back places, process the output of the tool to show user recommended places\n",
    "    last_message = state['messages'][-1]\n",
    "    if type(last_message) == ToolMessage and \"Failed\" not in last_message.content: # So far, just 1 tool is used - Googel Maps search\n",
    "        #print(\"DEBUG: artifact is \", last_message.artifact)\n",
    "        #print(\"DEBUG: content is \", last_message.content)\n",
    "        valid_places, invalid_places = last_message.artifact\n",
    "        #print(f\"DEBUG: type of valid_places is {type(valid_places)}, type of invalid_places is {type(invalid_places)}\")\n",
    "        place_recommendations_str = format_response_str_from_places(valid_places)\n",
    "        #print(\"DEBUG: here is original response:\", response)\n",
    "        new_message = AIMessage(content=response.content + \"\\n\\n\" + place_recommendations_str)\n",
    "        #print(\"DEBUG: here is new_message:\", new_message)\n",
    "        return {\n",
    "            'valid_places': {p.display_name_text: p for p in valid_places},\n",
    "            'invalid_places': {p[0].display_name_text: p for p in invalid_places},\n",
    "            'messages': [new_message]\n",
    "        }\n",
    "    return {\n",
    "        'messages': [response]\n",
    "    }"
   ]
  },
  {
   "cell_type": "markdown",
   "metadata": {},
   "source": [
    "### Review analyzer agent\n",
    "\n",
    "Investigates the reviews for a place, according to what the user is asking about what people say."
   ]
  },
  {
   "cell_type": "code",
   "execution_count": 173,
   "metadata": {},
   "outputs": [],
   "source": [
    "import json\n",
    "TEST_JSON = None\n",
    "TEST_FILE_PATH = \"/Users/deanorenstein/Documents/academic/coding_stuff/Food-Finder/backend/tests/test_data/test_2.txt\"\n",
    "with open(TEST_FILE_PATH, \"r\") as file:\n",
    "    TEST_JSON = json.load(file)\n",
    "places_objects = []\n",
    "for p in TEST_JSON['places']:\n",
    "    places_objects.append(Place.model_validate(p))"
   ]
  },
  {
   "cell_type": "code",
   "execution_count": 174,
   "metadata": {},
   "outputs": [],
   "source": [
    "valid_places = [(p.display_name_text, p) for p in places_objects]"
   ]
  },
  {
   "cell_type": "markdown",
   "metadata": {},
   "source": [
    "We will have different tools/functions for different ways of analyzing the reviews, including:\n",
    "- Topic modeling: For any user queries that have to do with themes across reviews, like food quality, service, or ambiance.\n",
    "- Summarization: For any user queries that have to do with getting a gist/summary/TLDR of all the reviews.\n",
    "- Keyword analysis: For any user queries that have to do with keywords that appear across multiple reviews, such as a popular dish or a particular word like \"carbonara.\"\n",
    "- Aspect based sentiment analysis: For any user queries that have to do with things to be weary of (sentiment of particular aspects), like service."
   ]
  },
  {
   "cell_type": "code",
   "execution_count": null,
   "metadata": {},
   "outputs": [],
   "source": [
    "!pip install spacy textblob transformers torch\n",
    "!python -m spacy download en_core_web_sm"
   ]
  },
  {
   "cell_type": "code",
   "execution_count": null,
   "metadata": {},
   "outputs": [],
   "source": [
    "nlp = spacy.load(\"en_core_web_sm\")"
   ]
  },
  {
   "cell_type": "code",
   "execution_count": null,
   "metadata": {},
   "outputs": [],
   "source": [
    "from collections import Counter"
   ]
  },
  {
   "cell_type": "code",
   "execution_count": null,
   "metadata": {},
   "outputs": [],
   "source": [
    "def get_aspects_of_reviews(reviews: List[str]):\n",
    "    all_aspects = []\n",
    "    for review in reviews:\n",
    "        doc = nlp(review)\n",
    "        aspects = [chunk.text for chunk in doc.noun_chunks]\n",
    "        all_aspects.extend(aspects)\n",
    "    return Counter(all_aspects)"
   ]
  },
  {
   "cell_type": "code",
   "execution_count": null,
   "metadata": {},
   "outputs": [],
   "source": [
    "def analyze_reviews(place_name: str, user_query: str):\n",
    "    prompt = \"\"\"\n",
    "    You are a helpful assistant \n",
    "    \"\"\""
   ]
  },
  {
   "cell_type": "code",
   "execution_count": 169,
   "metadata": {},
   "outputs": [],
   "source": [
    "sample_reviews = [\n",
    "    {\n",
    "        \"name\": \"places/ChIJK8cd0XjLRIYRHUvK1b-Oq1A/reviews/ChdDSUhNMG9nS0VJQ0FnSUN6NEtyUzdBRRAB\",\n",
    "        \"relativePublishTimeDescription\": \"3 months ago\",\n",
    "        \"rating\": 5,\n",
    "        \"text\": {\n",
    "        \"text\": \"The restaurant is part of a shopping strip that has a large shared parking lot. The staff was friendly and patient with me as I looked over the menu. I wanted one of everything. 😄 I ordered 2 different rolls and a box plate. Everything was fresh and tasted great! The food was served hot! I enjoyed everything and will be back! Thank you for taking so much care to prepare your food!\",\n",
    "        \"languageCode\": \"en\"\n",
    "        },\n",
    "        \"originalText\": {\n",
    "        \"text\": \"The restaurant is part of a shopping strip that has a large shared parking lot. The staff was friendly and patient with me as I looked over the menu. I wanted one of everything. 😄 I ordered 2 different rolls and a box plate. Everything was fresh and tasted great! The food was served hot! I enjoyed everything and will be back! Thank you for taking so much care to prepare your food!\",\n",
    "        \"languageCode\": \"en\"\n",
    "        },\n",
    "        \"authorAttribution\": {\n",
    "        \"displayName\": \"Lacie K\",\n",
    "        \"uri\": \"https://www.google.com/maps/contrib/111367735526927556208/reviews\",\n",
    "        \"photoUri\": \"https://lh3.googleusercontent.com/a-/ALV-UjVimQ1o50T_6xYokE3hwOOZ71dIjZECtjITJQT0Q_F-yhAgWHQ9GQ=s128-c0x00000000-cc-rp-mo-ba5\"\n",
    "        },\n",
    "        \"publishTime\": \"2024-05-29T22:27:49Z\"\n",
    "    },\n",
    "    {\n",
    "        \"name\": \"places/ChIJK8cd0XjLRIYRHUvK1b-Oq1A/reviews/ChZDSUhNMG9nS0VJQ0FnSUNyaXRLcFFBEAE\",\n",
    "        \"relativePublishTimeDescription\": \"2 months ago\",\n",
    "        \"rating\": 5,\n",
    "        \"text\": {\n",
    "        \"text\": \"I visit this quiet little spot often. Great place for lunch they have a bento box that I love so much and the customize for the customer for instance they do my husbands general tso without veggies. The staff is soooo friendly and kind and attentive! Today I tried their rock n roll sushi OMG it was so good!  I wish I had taken more pics but I gobbled it up! Next time!\",\n",
    "        \"languageCode\": \"en\"\n",
    "        },\n",
    "        \"originalText\": {\n",
    "        \"text\": \"I visit this quiet little spot often. Great place for lunch they have a bento box that I love so much and the customize for the customer for instance they do my husbands general tso without veggies. The staff is soooo friendly and kind and attentive! Today I tried their rock n roll sushi OMG it was so good!  I wish I had taken more pics but I gobbled it up! Next time!\",\n",
    "        \"languageCode\": \"en\"\n",
    "        },\n",
    "        \"authorAttribution\": {\n",
    "        \"displayName\": \"Johern81\",\n",
    "        \"uri\": \"https://www.google.com/maps/contrib/107677456554255705629/reviews\",\n",
    "        \"photoUri\": \"https://lh3.googleusercontent.com/a-/ALV-UjV8Di7Sj1t6EvcaFFM00uIABV0iyV4Fb-a00US2erHqIy7tedDd=s128-c0x00000000-cc-rp-mo-ba4\"\n",
    "        },\n",
    "        \"publishTime\": \"2024-07-05T19:25:36Z\"\n",
    "    },\n",
    "    {\n",
    "        \"name\": \"places/ChIJK8cd0XjLRIYRHUvK1b-Oq1A/reviews/ChZDSUhNMG9nS0VJQ0FnSURqOVBqRUR3EAE\",\n",
    "        \"relativePublishTimeDescription\": \"4 months ago\",\n",
    "        \"rating\": 5,\n",
    "        \"text\": {\n",
    "        \"text\": \"I can’t recommend this place enough! The prices and the portions are unbeatable. I get a bento box every time and always have enough for leftovers. The server we’ve always had is so helpful and welcoming. He recommended a premium salmon roll (pictured below) this time and it was amazing.\",\n",
    "        \"languageCode\": \"en\"\n",
    "        },\n",
    "        \"originalText\": {\n",
    "        \"text\": \"I can’t recommend this place enough! The prices and the portions are unbeatable. I get a bento box every time and always have enough for leftovers. The server we’ve always had is so helpful and welcoming. He recommended a premium salmon roll (pictured below) this time and it was amazing.\",\n",
    "        \"languageCode\": \"en\"\n",
    "        },\n",
    "        \"authorAttribution\": {\n",
    "        \"displayName\": \"Riley Moore\",\n",
    "        \"uri\": \"https://www.google.com/maps/contrib/101418795936605247681/reviews\",\n",
    "        \"photoUri\": \"https://lh3.googleusercontent.com/a/ACg8ocKie-ECbPWQ09Be2OGNqjT74nQbyh5fB6INV1r1ZlaUQGIiJQ=s128-c0x00000000-cc-rp-mo\"\n",
    "        },\n",
    "        \"publishTime\": \"2024-04-30T02:37:04Z\"\n",
    "    },\n",
    "    {\n",
    "        \"name\": \"places/ChIJK8cd0XjLRIYRHUvK1b-Oq1A/reviews/ChZDSUhNMG9nS0VJQ0FnSUNIdmZQOVRBEAE\",\n",
    "        \"relativePublishTimeDescription\": \"2 weeks ago\",\n",
    "        \"rating\": 5,\n",
    "        \"text\": {\n",
    "        \"text\": \"I’ve ordered this on Uber Eats a shameless amount of times. It’s always hot fresh and delicious! The teriyaki chicken is a favorite😁\",\n",
    "        \"languageCode\": \"en\"\n",
    "        },\n",
    "        \"originalText\": {\n",
    "        \"text\": \"I’ve ordered this on Uber Eats a shameless amount of times. It’s always hot fresh and delicious! The teriyaki chicken is a favorite😁\",\n",
    "        \"languageCode\": \"en\"\n",
    "        },\n",
    "        \"authorAttribution\": {\n",
    "        \"displayName\": \"Ryan Colwell\",\n",
    "        \"uri\": \"https://www.google.com/maps/contrib/103948474555460280443/reviews\",\n",
    "        \"photoUri\": \"https://lh3.googleusercontent.com/a-/ALV-UjXT-sRn8MNCyYP3brXIuaEVlIcwNRJPgc9Lf0Yd0eQWAhCp8Ig=s128-c0x00000000-cc-rp-mo\"\n",
    "        },\n",
    "        \"publishTime\": \"2024-09-08T01:42:35Z\"\n",
    "    },\n",
    "    {\n",
    "        \"name\": \"places/ChIJK8cd0XjLRIYRHUvK1b-Oq1A/reviews/ChZDSUhNMG9nS0VJQ0FnSUNMNXRyM1lnEAE\",\n",
    "        \"relativePublishTimeDescription\": \"3 months ago\",\n",
    "        \"rating\": 5,\n",
    "        \"text\": {\n",
    "        \"text\": \"Sushi was good and the bento box really shined. Very happy with Mongolian beef and the wing appetizer. Everything in the box was delicious. Can see myself making this my normal spot.\",\n",
    "        \"languageCode\": \"en\"\n",
    "        },\n",
    "        \"originalText\": {\n",
    "        \"text\": \"Sushi was good and the bento box really shined. Very happy with Mongolian beef and the wing appetizer. Everything in the box was delicious. Can see myself making this my normal spot.\",\n",
    "        \"languageCode\": \"en\"\n",
    "        },\n",
    "        \"authorAttribution\": {\n",
    "        \"displayName\": \"Nathan\",\n",
    "        \"uri\": \"https://www.google.com/maps/contrib/115153866311349096538/reviews\",\n",
    "        \"photoUri\": \"https://lh3.googleusercontent.com/a/ACg8ocLvHC1RcbDeL7HCPaON5ye7zGUc43HVyeM4N-57e9h7Ux-pDQ=s128-c0x00000000-cc-rp-mo\"\n",
    "        },\n",
    "        \"publishTime\": \"2024-06-18T18:57:28Z\"\n",
    "    }\n",
    "]"
   ]
  },
  {
   "cell_type": "markdown",
   "metadata": {},
   "source": [
    "### Create our graph\n",
    "\n",
    "Entry point is the maps query formulator agent. Then, we have the team supervisor agent, which takes the query and uses the Google Maps API to search for places. This agent also filters and sorts the places based on the user's preferences. Finally, we present the top places to the user (end graph)."
   ]
  },
  {
   "cell_type": "code",
   "execution_count": 165,
   "metadata": {},
   "outputs": [],
   "source": [
    "from typing import Optional, Tuple\n",
    "from typing_extensions import TypedDict\n",
    "from langchain_core.messages import BaseMessage\n",
    "# Using TypedDict instead of pydantic BaseModel, as the latter doesnt work with InjectedState (in tool nodes)\n",
    "class AgentState(TypedDict, total=False):\n",
    "    messages: Annotated[Sequence[BaseMessage], operator.add]\n",
    "    \n",
    "    # User preferences, which are also optional parameters to places API request\n",
    "    when_to_eat_specified: bool # default=False\n",
    "    # We need this so we dont go to datetime extractor a second time\n",
    "    datetime_extracted: bool # default=False\n",
    "    '''\n",
    "    Values for preferred_price_level (per person) can be:\n",
    "    - PRICE_LEVEL_UNSPECIFIED (user doesnt care about price level)\n",
    "    - PRICE_LEVEL_INEXPENSIVE (<=$10)\n",
    "    - PRICE_LEVEL_MODERATE ($10-$30)\n",
    "    - PRICE_LEVEL_EXPENSIVE ($30-$60)\n",
    "    - PRICE_LEVEL_VERY_EXPENSIVE (>$60)\n",
    "    This is calculated from the user interface agent\n",
    "    '''\n",
    "    preferred_price_level: str  # default=\"PRICE_LEVEL_UNSPECIFIED\"\n",
    "    \n",
    "    # Rating preference\n",
    "    desired_star_rating: float  # default=0.0\n",
    "    \n",
    "    '''\n",
    "    Regarding the location preference, follow this logic:\n",
    "    1. User must opt in to location sharing (otherwise, we ask them for their general area)\n",
    "    2. (Assuming location is shared) Does the user provide a preferred direction on the map?\n",
    "        2a. If yes, then draw a box, where opposite corner from their location has a distance of of desired_max_distance_miles (converted to meters)\n",
    "        2b. If no, then have the search area be a circle, with center user_coordinates and radius desired_max_distance_miles (converted to meters)\n",
    "    '''\n",
    "    # This comes from the frontend, in the first chat request body\n",
    "    user_coordinates: Optional[Tuple[float, float]]\n",
    "    \n",
    "    # Preferred direction from user (can be \"any\", \"N\", \"NE\", etc. - 4 primary and 4 intermediate directions of a compass)\n",
    "    # This informs the locationBias optional parameter for places API\n",
    "    preferred_direction: str  # default=\"any\"\n",
    "    \n",
    "    # Max desired meters the user would like to travel to eat\n",
    "    # Bot asks the user for number of miles, though, so we convert first\n",
    "    # This informs the locationBias optional parameter for places API\n",
    "    desired_max_distance_meters: float  # default=16093.0 (10 miles)\n",
    "    \n",
    "    user_preferences: UserPreferences\n",
    "    \n",
    "    # Filtered places from the original text search (by team supervisor)\n",
    "    valid_places: Dict[str, Place]\n",
    "    \n",
    "    # Map of place name to reason why it was filtered out\n",
    "    invalid_places: Dict[str, Tuple[Place, str]]\n",
    "    \n",
    "    # End goal is for this to be true (user says yes to a recommended place)\n",
    "    found_place: bool  # default=False"
   ]
  },
  {
   "cell_type": "code",
   "execution_count": 167,
   "metadata": {},
   "outputs": [],
   "source": [
    "workflow = StateGraph(AgentState)\n",
    "workflow.add_node('state_updater_node', state_updater_node)\n",
    "workflow.add_node('datetime_extractor_node', datetime_extractor_node)\n",
    "workflow.add_node('maps_query_formulator_node', maps_query_formulator_node)\n",
    "workflow.add_node('team_supervisor_node', team_supervisor_node)\n",
    "workflow.add_node('google_maps_text_search_and_filter', tool_node)\n",
    "\n",
    "workflow.set_entry_point('state_updater_node')\n",
    "\n",
    "workflow.add_edge('maps_query_formulator_node', 'team_supervisor_node')\n",
    "\n",
    "def what_to_do_next_for_supervisor(state: AgentState, config):\n",
    "    messages = state['messages']\n",
    "    last_message = messages[-1]\n",
    "    #print(\"DEBUG: last_message is\", last_message)\n",
    "    # If there is no function call, then we finish\n",
    "    if not last_message.tool_calls:\n",
    "        return \"end\"\n",
    "    # Otherwise if there is, we continue\n",
    "    else:\n",
    "        return \"get_places\"\n",
    "\n",
    "def what_to_do_next_for_state_updater(state: AgentState, config):\n",
    "    #print(\"DEBUG: state is\", state)\n",
    "    when_to_eat_specified = state[\"when_to_eat_specified\"]\n",
    "    datetime_extracted = state[\"datetime_extracted\"]\n",
    "    # If they specify when to eat, and datetime isnt yet extracted, extract datetime\n",
    "    if when_to_eat_specified:\n",
    "        if not datetime_extracted:\n",
    "            return \"extract_datetime\"\n",
    "        else:\n",
    "            return \"go_to_maps_query_formulator\"\n",
    "    else:\n",
    "        return \"go_to_maps_query_formulator\"\n",
    "\n",
    "\n",
    "# Conditional edge from state updater to date extracter\n",
    "workflow.add_conditional_edges(\n",
    "    'state_updater_node',\n",
    "    what_to_do_next_for_state_updater,\n",
    "    {\n",
    "        'extract_datetime': \"datetime_extractor_node\",\n",
    "        'go_to_maps_query_formulator': \"maps_query_formulator_node\"\n",
    "    }\n",
    ")\n",
    "\n",
    "workflow.add_conditional_edges(\n",
    "    'team_supervisor_node',\n",
    "    what_to_do_next_for_supervisor,\n",
    "    {\n",
    "        'get_places': \"google_maps_text_search_and_filter\",\n",
    "        'end': END,\n",
    "    },\n",
    ")\n",
    "\n",
    "workflow.add_edge('google_maps_text_search_and_filter', 'team_supervisor_node')\n",
    "workflow.add_edge('datetime_extractor_node', 'state_updater_node')\n",
    "\n",
    "food_finder_agent = workflow.compile()"
   ]
  },
  {
   "cell_type": "code",
   "execution_count": 135,
   "metadata": {},
   "outputs": [
    {
     "data": {
      "image/jpeg": "[encoded data removed]",
      "text/plain": [
       "<IPython.core.display.Image object>"
      ]
     },
     "metadata": {},
     "output_type": "display_data"
    }
   ],
   "source": [
    "from IPython.display import Image, display\n",
    "\n",
    "try:\n",
    "    display(Image(food_finder_agent.get_graph(xray=True).draw_mermaid_png()))\n",
    "except Exception:\n",
    "    # This requires some extra dependencies and is optional\n",
    "    pass"
   ]
  },
  {
   "cell_type": "code",
   "execution_count": 166,
   "metadata": {},
   "outputs": [],
   "source": [
    "DEFAULT_AGENT_STATE: AgentState = {\n",
    "    \"when_to_eat_specified\": False,\n",
    "    \"datetime_extracted\": False,\n",
    "    \"preferred_price_level\": \"PRICE_LEVEL_UNSPECIFIED\",\n",
    "    \"desired_star_rating\": 0.0,\n",
    "    \"user_coordinates\": None,\n",
    "    \"preferred_direction\": \"any\",\n",
    "    \"desired_max_distance_meters\": 16093.0,  # 10 miles\n",
    "    \"user_preferences\": UserPreferences(),\n",
    "    \"valid_places\": {},\n",
    "    \"invalid_places\": {},\n",
    "    \"found_place\": False\n",
    "}\n",
    "\n",
    "def create_initial_state(user_input: str, user_coordinates: Tuple[float, float] | None = None) -> AgentState:\n",
    "    return AgentState({\n",
    "        **DEFAULT_AGENT_STATE,\n",
    "        \"messages\": [HumanMessage(content=user_input)],\n",
    "        \"user_coordinates\": user_coordinates\n",
    "    })"
   ]
  },
  {
   "cell_type": "code",
   "execution_count": 161,
   "metadata": {},
   "outputs": [],
   "source": [
    "# Test 1 from the test suite\n",
    "#user_input = \"I am hungry and want to find somewhere to get some dinner. I want to eat at 7 for about an hour. I am going by myself. I am feeling like having Asian Cuisine. I dont want to drive more than 3 miles.\"\n",
    "user_input = \"Im looking for a place to have dinner around 7 PM, preferably somewhere within 10 miles of downtown. I'd love a spot with a cozy atmosphere and a good selection of vegetarian dishes, but I'm open to other options if they have unique or standout menu items. Bonus points if they have outdoor seating and a view!\"\n",
    "# Our anchor coordinate (in Austin)\n",
    "user_coordinates = (30.320156, -97.720618)\n",
    "\n",
    "initial_state = create_initial_state(user_input, user_coordinates)"
   ]
  },
  {
   "cell_type": "code",
   "execution_count": 112,
   "metadata": {},
   "outputs": [],
   "source": [
    "import logging\n",
    "logging.basicConfig(filename='debug.log', level=logging.DEBUG)"
   ]
  },
  {
   "cell_type": "code",
   "execution_count": 168,
   "metadata": {},
   "outputs": [
    {
     "name": "stdout",
     "output_type": "stream",
     "text": [
      "Output from node 'state_updater_node':\n",
      "---\n",
      "{'when_to_eat_specified': False, 'preferred_price_level': 'PRICE_LEVEL_UNSPECIFIED', 'desired_star_rating': 0, 'preferred_direction': 'any', 'desired_max_distance_meters': 16093.0, 'user_preferences': UserPreferences(desired_cuisines=PreferenceWeight(value=['Vegetarian'], weight=0.5), party_size=PreferenceWeight(value=1, weight=1.0), desired_time_and_stay_duration=(datetime.datetime(2024, 9, 25, 15, 2, 7, 846105), 60), desired_minimum_num_ratings=PreferenceWeight(value=0, weight=0.3), dietary_requests=PreferenceWeight(value=['Vegetarian'], weight=0.8), wants_family_friendly=PreferenceWeight(value=False, weight=0.6), wants_childrens_menu=PreferenceWeight(value=False, weight=0.5), wants_free_parking=PreferenceWeight(value=True, weight=0.8), wants_outdoor_seating=PreferenceWeight(value=True, weight=0.5), wants_live_music=PreferenceWeight(value=False, weight=0.3), wants_dessert=PreferenceWeight(value=False, weight=0.3), wants_beer=PreferenceWeight(value=False, weight=0.3), wants_wine=PreferenceWeight(value=False, weight=0.3), wants_brunch=PreferenceWeight(value=False, weight=0.7), wants_cocktails=PreferenceWeight(value=False, weight=0.3), wants_coffee=PreferenceWeight(value=False, weight=0.6))}\n",
      "Output from node 'maps_query_formulator_node':\n",
      "---\n",
      "{'messages': [CustomAIMessage(content='Vegetarian dinner near downtown', additional_kwargs={}, response_metadata={}, originating_node='maps_query_formulator_node')]}\n",
      "Output from node 'team_supervisor_node':\n",
      "---\n",
      "[AIMessage(content='', additional_kwargs={'tool_calls': [{'id': 'call_7i4zBCxuHx75tq26hXiykRpy', 'function': {'arguments': '{\"api_query\":\"Vegetarian dinner near downtown\"}', 'name': 'google_maps_text_search_and_filter'}, 'type': 'function'}], 'refusal': None}, response_metadata={'token_usage': {'completion_tokens': 23, 'prompt_tokens': 416, 'total_tokens': 439, 'completion_tokens_details': {'reasoning_tokens': 0}}, 'model_name': 'gpt-4o-2024-05-13', 'system_fingerprint': 'fp_e375328146', 'finish_reason': 'tool_calls', 'logprobs': None}, id='run-72809190-8286-4d6a-8bd9-47fefa71fa7b-0', tool_calls=[{'name': 'google_maps_text_search_and_filter', 'args': {'api_query': 'Vegetarian dinner near downtown'}, 'id': 'call_7i4zBCxuHx75tq26hXiykRpy', 'type': 'tool_call'}], usage_metadata={'input_tokens': 416, 'output_tokens': 23, 'total_tokens': 439})]\n",
      "Output from node 'google_maps_text_search_and_filter':\n",
      "---\n",
      "Obtained 16 places and 4 invalid places!\n",
      "Output from node 'team_supervisor_node':\n",
      "---\n",
      "I found 16 places that match your preferences for a cozy atmosphere and a good selection of vegetarian dishes. Some of these places even have outdoor seating and a view!\n",
      "\n",
      "Here are the places I found for you:\n",
      "\n",
      "1. Flower Child - American Restaurant. Located at 500 W 2nd St Suite 133, Austin, TX 78701, USA. Phone number is (512) 777-4132. Rating is 4.5 with 929 ratings.\n",
      "2. The Well - American Restaurant. Located at 440 W 2nd St, Austin, TX 78701, USA. Phone number is (737) 742-1129. Rating is 4.4 with 599 ratings.\n",
      "3. Casa de Luz Village - Vegetarian Restaurant. Located at 1701 Toomey Rd, Austin, TX 78704, USA. Phone number is None. Rating is 4.7 with 618 ratings.\n",
      "4. True Food Kitchen - Restaurant. Located at 222 West Ave Ste HR100, Austin, TX 78701, USA. Phone number is (512) 777-2430. Rating is 4.5 with 2554 ratings.\n",
      "5. Koriente - Restaurant. Located at 621 E 7th St, Austin, TX 78701, USA. Phone number is (512) 275-0852. Rating is 4.6 with 1741 ratings.\n",
      "\n"
     ]
    }
   ],
   "source": [
    "tool_called = False\n",
    "for chunk in food_finder_agent.stream(initial_state):\n",
    "    for key, value in chunk.items():\n",
    "        print(f\"Output from node '{key}':\")\n",
    "        print(\"---\")\n",
    "        if key == 'google_maps_text_search_and_filter':\n",
    "            print(value['messages'][0].content)\n",
    "            tool_called = True\n",
    "        elif key == 'team_supervisor_node':\n",
    "            if tool_called:\n",
    "                print(value['messages'][0].content)\n",
    "            else:\n",
    "                print(value['messages'])\n",
    "        else:\n",
    "            print(value)"
   ]
  },
  {
   "cell_type": "code",
   "execution_count": 224,
   "metadata": {},
   "outputs": [],
   "source": [
    "DEFAULT_AGENT_STATE: AgentState = {\n",
    "    \"preferred_price_level\": \"PRICE_LEVEL_UNSPECIFIED\",\n",
    "    \"desired_star_rating\": 0.0,\n",
    "    \"user_coordinates\": None,\n",
    "    \"preferred_direction\": \"any\",\n",
    "    \"desired_max_distance_meters\": 16093.0,  # 10 miles\n",
    "    \"user_preferences\": UserPreferences(),\n",
    "    \"valid_places\": {},\n",
    "    \"invalid_places\": {},\n",
    "    \"found_place\": False\n",
    "}"
   ]
  },
  {
   "cell_type": "code",
   "execution_count": 225,
   "metadata": {},
   "outputs": [],
   "source": [
    "from app.schemas import Coordinates"
   ]
  },
  {
   "cell_type": "code",
   "execution_count": 231,
   "metadata": {},
   "outputs": [],
   "source": [
    "state = AgentState({\n",
    "    **DEFAULT_AGENT_STATE,\n",
    "    \"messages\": [HumanMessage(content='I am hungry and want to find somewhere to get some dinner. I want to eat at 7 for about an hour. I am going by myself. I am feeling like having Asian Cuisine. I dont want to drive more than 3 miles.')],\n",
    "    \"user_coordinates\": (44.3546873, -115.9973871)\n",
    "})"
   ]
  },
  {
   "cell_type": "code",
   "execution_count": 232,
   "metadata": {},
   "outputs": [],
   "source": [
    "from app.schemas import Coordinates\n",
    "from uuid import uuid4\n",
    "sample_from_fastapi = {'input':state, 'config': {'configurable': {'thread_id': '67bc4645-44f7-41f9-9db1-71d7839f317f', 'model': 'gpt-4o-mini'}, 'run_id':uuid4()}}"
   ]
  },
  {
   "cell_type": "code",
   "execution_count": null,
   "metadata": {},
   "outputs": [],
   "source": [
    "response = food_finder_agent.invoke(**sample_from_fastapi)"
   ]
  },
  {
   "cell_type": "code",
   "execution_count": null,
   "metadata": {},
   "outputs": [],
   "source": [
    "tool_called = False\n",
    "for chunk in food_finder_agent.stream(sample_from_fastapi):\n",
    "    for key, value in chunk.items():\n",
    "        print(f\"Output from node '{key}':\")\n",
    "        print(\"---\")\n",
    "        if key == 'google_maps_text_search_and_filter':\n",
    "            print(value['messages'][0].content)\n",
    "            tool_called = True\n",
    "        elif key == 'team_supervisor_node':\n",
    "            if tool_called:\n",
    "                print(value['messages'][0].content)\n",
    "            else:\n",
    "                print(value['messages'])\n",
    "        else:\n",
    "            print(value)"
   ]
  },
  {
   "cell_type": "code",
   "execution_count": 199,
   "metadata": {},
   "outputs": [
    {
     "data": {
      "text/plain": [
       "\"Here are the places I found for you:\\n\\n1. Bento Teppanyaki Asian Cuisine - Chinese Restaurant. Located at 1201 Barbara Jordan Blvd #1230, Austin, TX 78723, USA. Phone number is (512) 296-2288. Rating is 4.7 with 118 ratings.\\n2. Shu Shu's Asian Cuisine - Chinese Restaurant. Located at 8303 Burnet Rd #1, Austin, TX 78757, USA. Phone number is (512) 291-3002. Rating is 4.3 with 792 ratings.\\n3. 1618 Asian Fusion - Restaurant. Located at 1618 E Riverside Dr, Austin, TX 78741, USA. Phone number is (512) 462-9999. Rating is 4.7 with 3100 ratings.\\n4. The Pho Asian Fusion - Restaurant. Located at 609 Clayton Ln #100, Austin, TX 78752, USA. Phone number is (512) 551-3379. Rating is 3.9 with 283 ratings.\\n5. Chi'Lantro - Restaurant. Located at 1201 Barbara Jordan Blvd Suite 1460, Austin, TX 78723, USA. Phone number is (512) 900-7648. Rating is 4.4 with 474 ratings.\\n\""
      ]
     },
     "execution_count": 199,
     "metadata": {},
     "output_type": "execute_result"
    }
   ],
   "source": [
    "response.get('messages')[-1].content"
   ]
  },
  {
   "cell_type": "markdown",
   "metadata": {},
   "source": [
    "## Following the docs on passing  runtime values to tools (in our case, the state)\n",
    "\n",
    "In our case, we want to inject the state, because it contains important information on the user's food preferences (set by earlier agents), and the google maps tool(s) must index this state, to filter the results properly. Also, as the user communicates with the later agent (supervisor), he/she may request certain things require access to information on searched places or that faciliate updating information on places."
   ]
  },
  {
   "cell_type": "markdown",
   "metadata": {},
   "source": [
    "We can use `InjectedState` annotation to mark agurments to the tool as required graph state, hence, these args wont be generated by the model. Also, using `ToolNode` will allow us to create a graph node consisting of tools, which takes care of injecting state into tools."
   ]
  },
  {
   "cell_type": "markdown",
   "metadata": {},
   "source": [
    "### First, here is a simple example of some tools calls annotated in such a way"
   ]
  },
  {
   "cell_type": "code",
   "execution_count": 102,
   "metadata": {},
   "outputs": [
    {
     "data": {
      "text/plain": [
       "{'messages': [ToolMessage(content='not enough messages', name='state_tool', tool_call_id='1'),\n",
       "  ToolMessage(content='bar2barbar2', name='foo_tool', tool_call_id='2')]}"
      ]
     },
     "execution_count": 102,
     "metadata": {},
     "output_type": "execute_result"
    }
   ],
   "source": [
    "from typing import List, Dict, Any\n",
    "from typing_extensions import Annotated, TypedDict\n",
    "from langchain_core.messages import BaseMessage, AIMessage\n",
    "from langchain_core.tools import tool\n",
    "from langgraph.prebuilt import InjectedState, ToolNode\n",
    "\n",
    "class AgentState(BaseModel):\n",
    "    messages: List[BaseMessage]\n",
    "    foo: str\n",
    "    foo2: str\n",
    "    places: List[str]\n",
    "\n",
    "def get_maps_text_search_parameters(state: Dict[str, Any]) -> str:\n",
    "    return state[\"foo\"] + state[\"foo2\"]\n",
    "@tool\n",
    "def state_tool(x: int, state: Annotated[dict, InjectedState]) -> str:\n",
    "    '''Do something with state.'''\n",
    "    state[\"places\"].append(get_maps_text_search_parameters(state))\n",
    "    if len(state[\"messages\"]) > 2:\n",
    "        return state[\"foo\"] + str(x)\n",
    "    else:\n",
    "        return \"not enough messages\"\n",
    "\n",
    "@tool\n",
    "def foo_tool(x: int, foo: Annotated[str, InjectedState(\"foo\")], foo2: Annotated[str, InjectedState(\"foo2\")], places: Annotated[List[str], InjectedState(\"places\")]) -> str:\n",
    "    '''Do something else with state.'''\n",
    "    return foo + str(x + 1) + places[0]\n",
    "\n",
    "node = ToolNode([state_tool, foo_tool])\n",
    "\n",
    "tool_call1 = {\"name\": \"state_tool\", \"args\": {\"x\": 1}, \"id\": \"1\", \"type\": \"tool_call\"}\n",
    "tool_call2 = {\"name\": \"foo_tool\", \"args\": {\"x\": 1}, \"id\": \"2\", \"type\": \"tool_call\"}\n",
    "state = {\n",
    "    \"messages\": [AIMessage(\"\", tool_calls=[tool_call1, tool_call2])],\n",
    "    \"foo\": \"bar\",\n",
    "    \"foo2\": \"bar2\",\n",
    "    \"places\": []\n",
    "}\n",
    "node.invoke(state)\n",
    "# [\n",
    "#     ToolMessage(content='not enough messages', name='state_tool', tool_call_id='1'),\n",
    "#     ToolMessage(content='bar2', name='foo_tool', tool_call_id='2')\n",
    "# ]"
   ]
  },
  {
   "cell_type": "markdown",
   "metadata": {},
   "source": [
    "### Now, the tutorial example\n",
    "\n",
    "Tutorial followed: https://langchain-ai.github.io/langgraph/how-tos/pass-run-time-values-to-tools/#setup"
   ]
  },
  {
   "cell_type": "code",
   "execution_count": 51,
   "metadata": {},
   "outputs": [],
   "source": [
    "model = ChatOpenAI()"
   ]
  },
  {
   "cell_type": "code",
   "execution_count": 146,
   "metadata": {},
   "outputs": [],
   "source": [
    "from typing import List, Tuple\n",
    "from typing_extensions import Annotated\n",
    "from langchain_core.documents import Document\n",
    "from langchain_core.tools import tool\n",
    "from langgraph.prebuilt import InjectedState\n",
    "from langchain_core.messages import ToolMessage\n",
    "from pydantic import BaseModel\n",
    "\n",
    "\n",
    "@tool(parse_docstring=True, response_format=\"content_and_artifact\")\n",
    "def get_context(question: List[str]) -> Tuple[str, List[Document]]:\n",
    "    \"\"\"Get context on the question.\n",
    "\n",
    "    Args:\n",
    "        question: The user question\n",
    "    \"\"\"\n",
    "    # return constant dummy output\n",
    "    docs = [\n",
    "        Document(\n",
    "            \"FooBar company just raised 1 Billion dollars!\",\n",
    "            metadata={\"source\": \"twitter\"},\n",
    "        ),\n",
    "        Document(\n",
    "            \"FooBar company is now only hiring AI's\", metadata={\"source\": \"twitter\"}\n",
    "        ),\n",
    "        Document(\n",
    "            \"FooBar company was founded in 2019\", metadata={\"source\": \"wikipedia\"}\n",
    "        ),\n",
    "        Document(\n",
    "            \"FooBar company makes friendly robots\", metadata={\"source\": \"wikipedia\"}\n",
    "        ),\n",
    "    ]\n",
    "    #return \"~~~~GOT IT DUDE!~~~~\", (\"\\n\\n\".join(doc.page_content for doc in docs), docs)\n",
    "    return \"\\n\\n\".join(doc.page_content for doc in docs), docs\n",
    "\n",
    "\n",
    "@tool(parse_docstring=True, response_format=\"content_and_artifact\")\n",
    "def cite_context_sources(\n",
    "    claim: str, state: Annotated[AgentState, InjectedState]\n",
    ") -> Tuple[str, List[Document]]:\n",
    "    \"\"\"Cite which source a claim was based on.\n",
    "\n",
    "    Args:\n",
    "        claim: The claim that was made.\n",
    "    \"\"\"\n",
    "    docs = []\n",
    "    # We get the potentially cited docs from past ToolMessages in our state.\n",
    "    for msg in state[\"messages\"]:\n",
    "        if isinstance(msg, ToolMessage) and msg.name == \"get_context\":\n",
    "            docs.extend(msg.artifact)\n",
    "\n",
    "    class Cite(BaseModel):\n",
    "        \"\"\"Return the index(es) of the documents that justify the claim\"\"\"\n",
    "\n",
    "        indexes: List[int]\n",
    "\n",
    "    structured_model = model.with_structured_output(Cite) # TODO: this is good to know for state updater agent\n",
    "    system = f\"Which of the following documents best justifies the claim:\\n\\n{claim}\"\n",
    "    context = \"\\n\\n\".join(\n",
    "        f\"Document {i}:\\n\" + doc.page_content for i, doc in enumerate(docs)\n",
    "    )\n",
    "    citation = structured_model.invoke([(\"system\", system), (\"human\", context)])\n",
    "    cited_docs = [docs[i] for i in citation.indexes]\n",
    "    sources = \", \".join(doc.metadata[\"source\"] for doc in cited_docs)\n",
    "\n",
    "    #return \"~~~~GOT IT DUDE!~~~~\", (sources, cited_docs)\n",
    "    return sources, cited_docs"
   ]
  },
  {
   "cell_type": "code",
   "execution_count": 140,
   "metadata": {},
   "outputs": [],
   "source": [
    "import operator\n",
    "from typing import Annotated, Sequence, TypedDict\n",
    "\n",
    "from langchain_core.messages import BaseMessage\n",
    "\n",
    "\n",
    "# class AgentState(BaseModel):\n",
    "#     messages: Annotated[Sequence[BaseMessage], operator.add]\n",
    "    #content: str\n",
    "\n",
    "class AgentState(TypedDict):\n",
    "    messages: Annotated[Sequence[BaseMessage], operator.add]"
   ]
  },
  {
   "cell_type": "code",
   "execution_count": 141,
   "metadata": {},
   "outputs": [],
   "source": [
    "from langchain_openai import ChatOpenAI\n",
    "\n",
    "from langgraph.prebuilt import ToolNode\n",
    "\n",
    "model = ChatOpenAI(model=\"gpt-4o\", temperature=0)\n",
    "\n",
    "\n",
    "# Define the function that determines whether to continue or not\n",
    "def should_continue(state, config):\n",
    "    messages = state.messages\n",
    "    #messages = state['messages']\n",
    "    last_message = messages[-1]\n",
    "    #print(\"DEBUG: last_message is\", last_message)\n",
    "    # If there is no function call, then we finish\n",
    "    if not last_message.tool_calls:\n",
    "        return \"end\"\n",
    "    # Otherwise if there is, we continue\n",
    "    else:\n",
    "        return \"continue\"\n",
    "\n",
    "\n",
    "tools = [get_context, cite_context_sources]\n",
    "#tools = [get_context]\n",
    "\n",
    "\n",
    "# Define the function that calls the model\n",
    "# def call_model(state: AgentState, config):\n",
    "#     messages = state.messages\n",
    "#     model_with_tools = model.bind_tools(tools)\n",
    "#     response = model_with_tools.invoke(messages)\n",
    "\n",
    "#     last_message = state.messages[-1]\n",
    "#     if type(last_message) == ToolMessage:\n",
    "#         print(\"DEBUG: last_message is:\")\n",
    "#         print(\"DEBUG: last_message.content is\", last_message.content)\n",
    "#         print(\"DEBUG: last_message.tool_call_id is\", last_message.tool_call_id)\n",
    "#         print(\"DEBUG: last_message.artifact[0] is\", last_message.artifact[0])\n",
    "#         print(\"DEBUG: last_message.artifact[1] is\", last_message.artifact[1])\n",
    "#         print(\"DEBUG: last_message.name is\", last_message.name) \n",
    "#         return {\n",
    "#             \"messages\": [response],\n",
    "#             \"content\": last_message.content\n",
    "#         }\n",
    "#     # We return a list, because this will get added to the existing list\n",
    "#     return {\"messages\": [response], \"content\": state.content}\n",
    "\n",
    "def call_model(state, config):\n",
    "    messages = state.messages\n",
    "    #messages = state['messages']\n",
    "    model_with_tools = model.bind_tools(tools)\n",
    "    response = model_with_tools.invoke(messages)\n",
    "    # We return a list, because this will get added to the existing list\n",
    "    return {\"messages\": [response]}\n",
    "\n",
    "# ToolNode will automatically take care of injecting state into tools\n",
    "tool_node = ToolNode(tools)"
   ]
  },
  {
   "cell_type": "code",
   "execution_count": 148,
   "metadata": {},
   "outputs": [],
   "source": [
    "from langgraph.graph import END, START, StateGraph\n",
    "\n",
    "# Define a new graph\n",
    "workflow = StateGraph(AgentState)\n",
    "\n",
    "# Define the two nodes we will cycle between\n",
    "workflow.add_node(\"agent\", call_model)\n",
    "workflow.add_node(\"action\", tool_node)\n",
    "\n",
    "# Set the entrypoint as `agent`\n",
    "# This means that this node is the first one called\n",
    "workflow.add_edge(START, \"agent\")\n",
    "\n",
    "# We now add a conditional edge\n",
    "workflow.add_conditional_edges(\n",
    "    # First, we define the start node. We use `agent`.\n",
    "    # This means these are the edges taken after the `agent` node is called.\n",
    "    \"agent\",\n",
    "    # Next, we pass in the function that will determine which node is called next.\n",
    "    should_continue,\n",
    "    # Finally we pass in a mapping.\n",
    "    # The keys are strings, and the values are other nodes.\n",
    "    # END is a special node marking that the graph should finish.\n",
    "    # What will happen is we will call `should_continue`, and then the output of that\n",
    "    # will be matched against the keys in this mapping.\n",
    "    # Based on which one it matches, that node will then be called.\n",
    "    {\n",
    "        # If `tools`, then we call the tool node.\n",
    "        \"continue\": \"action\",\n",
    "        # Otherwise we finish.\n",
    "        \"end\": END,\n",
    "    },\n",
    ")\n",
    "\n",
    "# We now add a normal edge from `tools` to `agent`.\n",
    "# This means that after `tools` is called, `agent` node is called next.\n",
    "workflow.add_edge(\"action\", \"agent\")\n",
    "\n",
    "# Finally, we compile it!\n",
    "# This compiles it into a LangChain Runnable,\n",
    "# meaning you can use it as you would any other runnable\n",
    "app = workflow.compile()"
   ]
  },
  {
   "cell_type": "code",
   "execution_count": 149,
   "metadata": {},
   "outputs": [],
   "source": [
    "messages = [HumanMessage(content=\"what's the latest news about FooBar\")]"
   ]
  },
  {
   "cell_type": "code",
   "execution_count": 150,
   "metadata": {},
   "outputs": [
    {
     "name": "stdout",
     "output_type": "stream",
     "text": [
      "Output from node 'agent':\n",
      "---\n",
      "{'messages': [AIMessage(content='', additional_kwargs={'tool_calls': [{'id': 'call_E781TqCV3GMUFtXg8oGpK9CF', 'function': {'arguments': '{\"question\":[\"latest news about FooBar\"]}', 'name': 'get_context'}, 'type': 'function'}], 'refusal': None}, response_metadata={'token_usage': {'completion_tokens': 19, 'prompt_tokens': 87, 'total_tokens': 106, 'completion_tokens_details': {'reasoning_tokens': 0}}, 'model_name': 'gpt-4o-2024-05-13', 'system_fingerprint': 'fp_52a7f40b0b', 'finish_reason': 'tool_calls', 'logprobs': None}, id='run-11990e3a-a0e9-4978-aa11-8d3e62c8e174-0', tool_calls=[{'name': 'get_context', 'args': {'question': ['latest news about FooBar']}, 'id': 'call_E781TqCV3GMUFtXg8oGpK9CF', 'type': 'tool_call'}], usage_metadata={'input_tokens': 87, 'output_tokens': 19, 'total_tokens': 106})]}\n",
      "Output from node 'action':\n",
      "---\n",
      "{'messages': [ToolMessage(content=\"FooBar company just raised 1 Billion dollars!\\n\\nFooBar company is now only hiring AI's\\n\\nFooBar company was founded in 2019\\n\\nFooBar company makes friendly robots\", name='get_context', tool_call_id='call_E781TqCV3GMUFtXg8oGpK9CF', artifact=[Document(metadata={'source': 'twitter'}, page_content='FooBar company just raised 1 Billion dollars!'), Document(metadata={'source': 'twitter'}, page_content=\"FooBar company is now only hiring AI's\"), Document(metadata={'source': 'wikipedia'}, page_content='FooBar company was founded in 2019'), Document(metadata={'source': 'wikipedia'}, page_content='FooBar company makes friendly robots')])]}\n",
      "Output from node 'agent':\n",
      "---\n",
      "{'messages': [AIMessage(content='The latest news about FooBar is that the company just raised 1 billion dollars!', additional_kwargs={'refusal': None}, response_metadata={'token_usage': {'completion_tokens': 18, 'prompt_tokens': 150, 'total_tokens': 168, 'completion_tokens_details': {'reasoning_tokens': 0}}, 'model_name': 'gpt-4o-2024-05-13', 'system_fingerprint': 'fp_e375328146', 'finish_reason': 'stop', 'logprobs': None}, id='run-060163be-fa5a-4671-bcb0-da6e1312c95e-0', usage_metadata={'input_tokens': 150, 'output_tokens': 18, 'total_tokens': 168})]}\n"
     ]
    }
   ],
   "source": [
    "for chunk in app.stream(\n",
    "    {\"messages\": messages, \"content\": \"\"}\n",
    "):\n",
    "    for key, value in chunk.items():\n",
    "        print(f\"Output from node '{key}':\")\n",
    "        print(\"---\")\n",
    "        print(value)\n",
    "        messages.extend(value[\"messages\"])"
   ]
  },
  {
   "cell_type": "code",
   "execution_count": 139,
   "metadata": {},
   "outputs": [
    {
     "name": "stdout",
     "output_type": "stream",
     "text": [
      "Output from node 'agent':\n",
      "---\n",
      "{'messages': [AIMessage(content='', additional_kwargs={'tool_calls': [{'id': 'call_Jvkgd6QZqE1GjwrlW4LXdPOU', 'function': {'arguments': '{\"claim\":\"FooBar company just raised 1 Billion dollars!\"}', 'name': 'cite_context_sources'}, 'type': 'function'}], 'refusal': None}, response_metadata={'token_usage': {'completion_tokens': 25, 'prompt_tokens': 182, 'total_tokens': 207, 'completion_tokens_details': {'reasoning_tokens': 0}}, 'model_name': 'gpt-4o-2024-05-13', 'system_fingerprint': 'fp_e375328146', 'finish_reason': 'tool_calls', 'logprobs': None}, id='run-3bbda366-8955-4700-b51d-e83d6727f6c8-0', tool_calls=[{'name': 'cite_context_sources', 'args': {'claim': 'FooBar company just raised 1 Billion dollars!'}, 'id': 'call_Jvkgd6QZqE1GjwrlW4LXdPOU', 'type': 'tool_call'}], usage_metadata={'input_tokens': 182, 'output_tokens': 25, 'total_tokens': 207})]}\n",
      "Output from node 'action':\n",
      "---\n",
      "{'messages': [ToolMessage(content='twitter', name='cite_context_sources', tool_call_id='call_Jvkgd6QZqE1GjwrlW4LXdPOU', artifact=[Document(metadata={'source': 'twitter'}, page_content='FooBar company just raised 1 Billion dollars!')])]}\n",
      "Output from node 'agent':\n",
      "---\n",
      "{'messages': [AIMessage(content='The information that FooBar company just raised 1 billion dollars was sourced from Twitter.', additional_kwargs={'refusal': None}, response_metadata={'token_usage': {'completion_tokens': 18, 'prompt_tokens': 217, 'total_tokens': 235, 'completion_tokens_details': {'reasoning_tokens': 0}}, 'model_name': 'gpt-4o-2024-05-13', 'system_fingerprint': 'fp_e375328146', 'finish_reason': 'stop', 'logprobs': None}, id='run-e3eb5d77-e67d-48d7-b711-f6de503bf776-0', usage_metadata={'input_tokens': 217, 'output_tokens': 18, 'total_tokens': 235})]}\n"
     ]
    }
   ],
   "source": [
    "messages.append(HumanMessage(\"where did you get this information?\"))\n",
    "for chunk in app.stream(\n",
    "    {\"messages\": messages, \"content\": \"\"}\n",
    "):\n",
    "    for key, value in chunk.items():\n",
    "        print(f\"Output from node '{key}':\")\n",
    "        print(\"---\")\n",
    "        print(value)\n",
    "        messages.extend(value[\"messages\"])"
   ]
  }
 ],
 "metadata": {
  "kernelspec": {
   "display_name": "backend-Ap9aZ7Ft",
   "language": "python",
   "name": "python3"
  },
  "language_info": {
   "codemirror_mode": {
    "name": "ipython",
    "version": 3
   },
   "file_extension": ".py",
   "mimetype": "text/x-python",
   "name": "python",
   "nbconvert_exporter": "python",
   "pygments_lexer": "ipython3",
   "version": "3.11.9"
  }
 },
 "nbformat": 4,
 "nbformat_minor": 2
}
